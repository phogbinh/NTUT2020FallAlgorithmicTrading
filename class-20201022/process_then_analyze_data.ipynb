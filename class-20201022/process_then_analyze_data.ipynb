{
 "cells": [
  {
   "cell_type": "code",
   "execution_count": 1,
   "metadata": {},
   "outputs": [],
   "source": [
    "import pandas as pd\n",
    "import matplotlib.pyplot as plt\n",
    "import numpy as np\n",
    "import seaborn as sns"
   ]
  },
  {
   "cell_type": "code",
   "execution_count": 2,
   "metadata": {},
   "outputs": [
    {
     "data": {
      "text/html": [
       "<div>\n",
       "<style scoped>\n",
       "    .dataframe tbody tr th:only-of-type {\n",
       "        vertical-align: middle;\n",
       "    }\n",
       "\n",
       "    .dataframe tbody tr th {\n",
       "        vertical-align: top;\n",
       "    }\n",
       "\n",
       "    .dataframe thead th {\n",
       "        text-align: right;\n",
       "    }\n",
       "</style>\n",
       "<table border=\"1\" class=\"dataframe\">\n",
       "  <thead>\n",
       "    <tr style=\"text-align: right;\">\n",
       "      <th></th>\n",
       "      <th>2317</th>\n",
       "      <th>2330</th>\n",
       "      <th>3008</th>\n",
       "    </tr>\n",
       "  </thead>\n",
       "  <tbody>\n",
       "    <tr>\n",
       "      <th>2015-01-05 00:00:00</th>\n",
       "      <td>0.000000</td>\n",
       "      <td>0.000000</td>\n",
       "      <td>0.000000</td>\n",
       "    </tr>\n",
       "    <tr>\n",
       "      <th>2015-01-06 00:00:00</th>\n",
       "      <td>-0.030963</td>\n",
       "      <td>-0.043011</td>\n",
       "      <td>-0.031915</td>\n",
       "    </tr>\n",
       "    <tr>\n",
       "      <th>2015-01-07 00:00:00</th>\n",
       "      <td>0.008284</td>\n",
       "      <td>0.003745</td>\n",
       "      <td>0.010989</td>\n",
       "    </tr>\n",
       "    <tr>\n",
       "      <th>2015-01-08 00:00:00</th>\n",
       "      <td>0.019953</td>\n",
       "      <td>0.029851</td>\n",
       "      <td>0.028261</td>\n",
       "    </tr>\n",
       "    <tr>\n",
       "      <th>2015-01-09 00:00:00</th>\n",
       "      <td>-0.004603</td>\n",
       "      <td>-0.028986</td>\n",
       "      <td>-0.010571</td>\n",
       "    </tr>\n",
       "  </tbody>\n",
       "</table>\n",
       "</div>"
      ],
      "text/plain": [
       "                         2317      2330      3008\n",
       "2015-01-05 00:00:00  0.000000  0.000000  0.000000\n",
       "2015-01-06 00:00:00 -0.030963 -0.043011 -0.031915\n",
       "2015-01-07 00:00:00  0.008284  0.003745  0.010989\n",
       "2015-01-08 00:00:00  0.019953  0.029851  0.028261\n",
       "2015-01-09 00:00:00 -0.004603 -0.028986 -0.010571"
      ]
     },
     "execution_count": 2,
     "metadata": {},
     "output_type": "execute_result"
    }
   ],
   "source": [
    "stock_list = ['2317', '2330', '3008']\n",
    "\n",
    "stock_r = pd.DataFrame() # [stock] [r]eturns\n",
    "\n",
    "for stock_name in stock_list:\n",
    "    df = pd.read_csv(stock_name + '.csv', header=None)\n",
    "    df = df[[0, 6]]\n",
    "    df.columns = ['date', 'close']\n",
    "    taiwan_date = df['date'].str.split('/', expand=True)\n",
    "    years = taiwan_date[0].astype(int) + 1911\n",
    "    df['date'] = years.astype(str) + '/' + taiwan_date[1] + '/' + taiwan_date[2]\n",
    "    df['date'] = pd.to_datetime(df['date'], format='%Y%m%d %H:%M:%S')\n",
    "    df['close'] = df['close'].replace('--', np.nan).astype(float) # replace '--' with NaN is pretty weird. I think 0 is a better candidate.\n",
    "    df = df[ (df['date'] > '2015') & (df['date'] < '2017') ]\n",
    "    df['return'] = df['close'].pct_change().fillna(0)\n",
    "    df.index = df['date'] # if this step is omitted NaN will appear. Why? Because the indices are different from three data, they will only become the same should we make them the dates.\n",
    "    stock_r = pd.concat( [ stock_r, df['return'] ], axis=1 )\n",
    "    \n",
    "stock_r.columns = stock_list\n",
    "stock_r.head()"
   ]
  },
  {
   "cell_type": "code",
   "execution_count": 3,
   "metadata": {},
   "outputs": [
    {
     "data": {
      "text/html": [
       "<div>\n",
       "<style scoped>\n",
       "    .dataframe tbody tr th:only-of-type {\n",
       "        vertical-align: middle;\n",
       "    }\n",
       "\n",
       "    .dataframe tbody tr th {\n",
       "        vertical-align: top;\n",
       "    }\n",
       "\n",
       "    .dataframe thead th {\n",
       "        text-align: right;\n",
       "    }\n",
       "</style>\n",
       "<table border=\"1\" class=\"dataframe\">\n",
       "  <thead>\n",
       "    <tr style=\"text-align: right;\">\n",
       "      <th></th>\n",
       "      <th>2317</th>\n",
       "      <th>2330</th>\n",
       "      <th>3008</th>\n",
       "    </tr>\n",
       "  </thead>\n",
       "  <tbody>\n",
       "    <tr>\n",
       "      <th>2015-01-06 00:00:00</th>\n",
       "      <td>-0.030963</td>\n",
       "      <td>-0.043011</td>\n",
       "      <td>-0.031915</td>\n",
       "    </tr>\n",
       "    <tr>\n",
       "      <th>2015-01-07 00:00:00</th>\n",
       "      <td>0.008284</td>\n",
       "      <td>0.003745</td>\n",
       "      <td>0.010989</td>\n",
       "    </tr>\n",
       "    <tr>\n",
       "      <th>2015-01-08 00:00:00</th>\n",
       "      <td>0.019953</td>\n",
       "      <td>0.029851</td>\n",
       "      <td>0.028261</td>\n",
       "    </tr>\n",
       "    <tr>\n",
       "      <th>2015-01-09 00:00:00</th>\n",
       "      <td>-0.004603</td>\n",
       "      <td>-0.028986</td>\n",
       "      <td>-0.010571</td>\n",
       "    </tr>\n",
       "    <tr>\n",
       "      <th>2015-01-12 00:00:00</th>\n",
       "      <td>-0.009249</td>\n",
       "      <td>-0.014925</td>\n",
       "      <td>-0.008547</td>\n",
       "    </tr>\n",
       "  </tbody>\n",
       "</table>\n",
       "</div>"
      ],
      "text/plain": [
       "                         2317      2330      3008\n",
       "2015-01-06 00:00:00 -0.030963 -0.043011 -0.031915\n",
       "2015-01-07 00:00:00  0.008284  0.003745  0.010989\n",
       "2015-01-08 00:00:00  0.019953  0.029851  0.028261\n",
       "2015-01-09 00:00:00 -0.004603 -0.028986 -0.010571\n",
       "2015-01-12 00:00:00 -0.009249 -0.014925 -0.008547"
      ]
     },
     "execution_count": 3,
     "metadata": {},
     "output_type": "execute_result"
    }
   ],
   "source": [
    "stock_r = stock_r[1:]\n",
    "stock_r.head()"
   ]
  },
  {
   "cell_type": "code",
   "execution_count": 4,
   "metadata": {},
   "outputs": [
    {
     "data": {
      "text/plain": [
       "<matplotlib.axes._subplots.AxesSubplot at 0x25c5fb83d60>"
      ]
     },
     "execution_count": 4,
     "metadata": {},
     "output_type": "execute_result"
    },
    {
     "data": {
      "image/png": "[encoded data removed]",
      "text/plain": [
       "<Figure size 432x288 with 2 Axes>"
      ]
     },
     "metadata": {
      "needs_background": "light"
     },
     "output_type": "display_data"
    }
   ],
   "source": [
    "sns.heatmap(stock_r.corr(), cmap='Blues')"
   ]
  },
  {
   "cell_type": "code",
   "execution_count": 5,
   "metadata": {},
   "outputs": [
    {
     "data": {
      "text/plain": [
       "2317    0.008656\n",
       "2330    0.165958\n",
       "3008    0.355043\n",
       "dtype: float64"
      ]
     },
     "execution_count": 5,
     "metadata": {},
     "output_type": "execute_result"
    }
   ],
   "source": [
    "stock_expected_r = stock_r.mean() * 252 # [stock] [expected] [r]eturns\n",
    "stock_expected_r"
   ]
  },
  {
   "cell_type": "code",
   "execution_count": 6,
   "metadata": {},
   "outputs": [
    {
     "data": {
      "text/html": [
       "<div>\n",
       "<style scoped>\n",
       "    .dataframe tbody tr th:only-of-type {\n",
       "        vertical-align: middle;\n",
       "    }\n",
       "\n",
       "    .dataframe tbody tr th {\n",
       "        vertical-align: top;\n",
       "    }\n",
       "\n",
       "    .dataframe thead th {\n",
       "        text-align: right;\n",
       "    }\n",
       "</style>\n",
       "<table border=\"1\" class=\"dataframe\">\n",
       "  <thead>\n",
       "    <tr style=\"text-align: right;\">\n",
       "      <th></th>\n",
       "      <th>2317</th>\n",
       "      <th>2330</th>\n",
       "      <th>3008</th>\n",
       "    </tr>\n",
       "  </thead>\n",
       "  <tbody>\n",
       "    <tr>\n",
       "      <th>2317</th>\n",
       "      <td>0.052986</td>\n",
       "      <td>0.026570</td>\n",
       "      <td>0.037776</td>\n",
       "    </tr>\n",
       "    <tr>\n",
       "      <th>2330</th>\n",
       "      <td>0.026570</td>\n",
       "      <td>0.059732</td>\n",
       "      <td>0.045850</td>\n",
       "    </tr>\n",
       "    <tr>\n",
       "      <th>3008</th>\n",
       "      <td>0.037776</td>\n",
       "      <td>0.045850</td>\n",
       "      <td>0.216272</td>\n",
       "    </tr>\n",
       "  </tbody>\n",
       "</table>\n",
       "</div>"
      ],
      "text/plain": [
       "          2317      2330      3008\n",
       "2317  0.052986  0.026570  0.037776\n",
       "2330  0.026570  0.059732  0.045850\n",
       "3008  0.037776  0.045850  0.216272"
      ]
     },
     "execution_count": 6,
     "metadata": {},
     "output_type": "execute_result"
    }
   ],
   "source": [
    "stock_covariance_matrix = stock_r.cov() * 252\n",
    "stock_covariance_matrix"
   ]
  },
  {
   "cell_type": "code",
   "execution_count": 7,
   "metadata": {},
   "outputs": [
    {
     "data": {
      "text/plain": [
       "array([0.33333333, 0.33333333, 0.33333333])"
      ]
     },
     "execution_count": 7,
     "metadata": {},
     "output_type": "execute_result"
    }
   ],
   "source": [
    "stock_len = len(stock_list) # [stock] [len]gth\n",
    "stock_weights = np.array([1/stock_len for i in range(stock_len)])\n",
    "stock_weights"
   ]
  },
  {
   "cell_type": "code",
   "execution_count": 8,
   "metadata": {},
   "outputs": [
    {
     "data": {
      "text/plain": [
       "0.1765523294924345"
      ]
     },
     "execution_count": 8,
     "metadata": {},
     "output_type": "execute_result"
    }
   ],
   "source": [
    "portfolio_return = sum(stock_weights * stock_expected_r)\n",
    "portfolio_return"
   ]
  },
  {
   "cell_type": "code",
   "execution_count": 9,
   "metadata": {},
   "outputs": [
    {
     "data": {
      "text/plain": [
       "0.2470677648619172"
      ]
     },
     "execution_count": 9,
     "metadata": {},
     "output_type": "execute_result"
    }
   ],
   "source": [
    "portfolio_risk = np.sqrt( np.dot( np.dot(stock_weights, stock_covariance_matrix), stock_weights.T ) )\n",
    "portfolio_risk"
   ]
  },
  {
   "cell_type": "code",
   "execution_count": 10,
   "metadata": {},
   "outputs": [
    {
     "data": {
      "text/plain": [
       "<matplotlib.legend.Legend at 0x25c60c00970>"
      ]
     },
     "execution_count": 10,
     "metadata": {},
     "output_type": "execute_result"
    },
    {
     "data": {
      "image/png": "[encoded data removed]",
      "text/plain": [
       "<Figure size 432x288 with 1 Axes>"
      ]
     },
     "metadata": {
      "needs_background": "light"
     },
     "output_type": "display_data"
    }
   ],
   "source": [
    "plt.plot(portfolio_risk, portfolio_return, 'y*', label='portfolio')\n",
    "plt.plot( np.sqrt( np.var(stock_r['2317']) * 252 ), stock_expected_r[0], 'ro', label='2317' )\n",
    "plt.plot( np.sqrt( np.var(stock_r['2330']) * 252 ), stock_expected_r[1], 'bo', label='2330' )\n",
    "plt.plot( np.sqrt( np.var(stock_r['3008']) * 252 ), stock_expected_r[2], 'go', label='3008' )\n",
    "plt.legend()"
   ]
  },
  {
   "cell_type": "code",
   "execution_count": 11,
   "metadata": {},
   "outputs": [],
   "source": [
    "rsk = [] # [r]i[sk]\n",
    "rtn = [] # [r]e[t]ur[n]\n",
    "for _ in range(1000):\n",
    "    w = np.random.rand(stock_len)\n",
    "    w /= sum(w)\n",
    "    rtn.append( sum(stock_expected_r * w) )\n",
    "    rsk.append( np.sqrt( np.dot( np.dot(w, stock_covariance_matrix), w.T ) ) )"
   ]
  },
  {
   "cell_type": "code",
   "execution_count": 12,
   "metadata": {},
   "outputs": [
    {
     "data": {
      "text/plain": [
       "<matplotlib.legend.Legend at 0x25c60c39880>"
      ]
     },
     "execution_count": 12,
     "metadata": {},
     "output_type": "execute_result"
    },
    {
     "data": {
      "image/png": "[encoded data removed]",
      "text/plain": [
       "<Figure size 432x288 with 2 Axes>"
      ]
     },
     "metadata": {
      "needs_background": "light"
     },
     "output_type": "display_data"
    }
   ],
   "source": [
    "sc = plt.scatter( rsk, rtn, c=( np.array(rtn) / np.array(rsk) ) ) # [sc]atter plot\n",
    "plt.colorbar(sc, label='sharpe ratio')\n",
    "plt.plot( np.sqrt( np.var(stock_r['2317']) * 252 ), stock_expected_r[0], 'ro', label='2317' )\n",
    "plt.plot( np.sqrt( np.var(stock_r['2330']) * 252 ), stock_expected_r[1], 'bo', label='2330' )\n",
    "plt.plot( np.sqrt( np.var(stock_r['3008']) * 252 ), stock_expected_r[2], 'go', label='3008' )\n",
    "plt.legend()"
   ]
  },
  {
   "cell_type": "code",
   "execution_count": 13,
   "metadata": {},
   "outputs": [
    {
     "name": "stdout",
     "output_type": "stream",
     "text": [
      "最佳化 0.18 報酬的權重： [0.13746882 0.67390561 0.18862557]\n"
     ]
    }
   ],
   "source": [
    "import scipy.optimize as solver\n",
    "\n",
    "def std(w): # [st]an[d]ard deviation\n",
    "    return np.sqrt( np.dot( np.dot(w, stock_covariance_matrix), w.T ) )\n",
    "\n",
    "def output_weight(rt): # [r]eturn [r]ate\n",
    "    x0 = np.array( [1/stock_len for i in range(stock_len)] )\n",
    "    bounds = tuple( (0, 1) for x in range(stock_len) )\n",
    "    constraints = [\n",
    "        {'type': 'eq', 'fun': lambda x: sum(x) - 1},\n",
    "        {'type': 'eq', 'fun': lambda x: sum(x * stock_expected_r) - rt}\n",
    "    ]\n",
    "    out = solver.minimize(std, x0=x0, constraints=constraints, bounds=bounds)\n",
    "    return out\n",
    "\n",
    "print('最佳化 0.18 報酬的權重：', output_weight(.18).x)"
   ]
  },
  {
   "cell_type": "code",
   "execution_count": 14,
   "metadata": {},
   "outputs": [
    {
     "data": {
      "text/plain": [
       "[<matplotlib.lines.Line2D at 0x25c60cfd520>]"
      ]
     },
     "execution_count": 14,
     "metadata": {},
     "output_type": "execute_result"
    },
    {
     "data": {
      "image/png": "[encoded data removed]",
      "text/plain": [
       "<Figure size 432x288 with 1 Axes>"
      ]
     },
     "metadata": {
      "needs_background": "light"
     },
     "output_type": "display_data"
    }
   ],
   "source": [
    "risk = []\n",
    "given_r = np.arange(.08, .22, .005) # [given] [r]ange\n",
    "for i in given_r:\n",
    "    risk.append(output_weight(i).fun)\n",
    "\n",
    "sc = plt.scatter( rsk, rtn, c=( np.array(rtn) / np.array(rsk) ) )\n",
    "plt.plot(risk, given_r, '-', color='red')\n",
    "plt.plot(portfolio_risk, portfolio_return, 'b*')"
   ]
  }
 ],
 "metadata": {
  "kernelspec": {
   "display_name": "Python 3",
   "language": "python",
   "name": "python3"
  },
  "language_info": {
   "codemirror_mode": {
    "name": "ipython",
    "version": 3
   },
   "file_extension": ".py",
   "mimetype": "text/x-python",
   "name": "python",
   "nbconvert_exporter": "python",
   "pygments_lexer": "ipython3",
   "version": "3.8.3"
  }
 },
 "nbformat": 4,
 "nbformat_minor": 2
}
